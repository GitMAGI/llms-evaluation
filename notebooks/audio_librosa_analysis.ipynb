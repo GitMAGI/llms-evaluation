{
 "cells": [
  {
   "cell_type": "code",
   "execution_count": 2,
   "metadata": {},
   "outputs": [],
   "source": [
    "import librosa\n",
    "import IPython.display as ipd\n",
    "import tensorflow_datasets as tfds\n",
    "import numpy as np"
   ]
  },
  {
   "cell_type": "code",
   "execution_count": 17,
   "metadata": {},
   "outputs": [
    {
     "name": "stdout",
     "output_type": "stream",
     "text": [
      "1875, 625\n",
      "1875, 625\n"
     ]
    }
   ],
   "source": [
    "train_ds, test_ds = tfds.load('spoken_digit', split=['train[:75%]', 'train[:25%]'], shuffle_files=True, as_supervised=True)\n",
    "train_ds_np = tfds.as_numpy(train_ds)\n",
    "test_ds_np = tfds.as_numpy(test_ds)\n",
    "\n",
    "x_train = [x.astype(np.float32) for x, y in train_ds_np]\n",
    "y_train = [y.astype(np.float32) for x, y in train_ds_np]\n",
    "\n",
    "x_test = [x.astype(np.float32) for x, y in test_ds_np]\n",
    "y_test = [y.astype(np.float32) for x, y in test_ds_np]\n",
    "\n",
    "print(f\"{len(x_train)}, {len(x_test)}\")\n",
    "print(f\"{len(y_train)}, {len(y_test)}\")\n",
    "\n",
    "Fs = 8000"
   ]
  },
  {
   "cell_type": "code",
   "execution_count": 26,
   "metadata": {},
   "outputs": [
    {
     "data": {
      "text/plain": [
       "(2535,)"
      ]
     },
     "metadata": {},
     "output_type": "display_data"
    },
    {
     "data": {
      "text/html": [
       "\n",
       "                <audio  controls=\"controls\" >\n",
       "                    <source src=\"data:audio/wav;base64,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\" type=\"audio/wav\" />\n",
       "                    Your browser does not support the audio element.\n",
       "                </audio>\n",
       "              "
      ],
      "text/plain": [
       "<IPython.lib.display.Audio object>"
      ]
     },
     "execution_count": 26,
     "metadata": {},
     "output_type": "execute_result"
    }
   ],
   "source": [
    "item_index = np.random.randint(0, len(y_train), size=1)[0]\n",
    "\n",
    "# Signal\n",
    "s = x_train[item_index]\n",
    "display(s.shape)\n",
    "\n",
    "ipd.Audio(s, rate=Fs)"
   ]
  },
  {
   "cell_type": "code",
   "execution_count": 25,
   "metadata": {},
   "outputs": [
    {
     "data": {
      "text/plain": [
       "(257, 28)"
      ]
     },
     "metadata": {},
     "output_type": "display_data"
    }
   ],
   "source": [
    "# Spectrogram\n",
    "S = librosa.stft(s, n_fft=512, hop_length=128)\n",
    "display(S.shape)\n",
    "S_spc = np.abs(S)**2"
   ]
  },
  {
   "cell_type": "code",
   "execution_count": null,
   "metadata": {},
   "outputs": [],
   "source": []
  }
 ],
 "metadata": {
  "kernelspec": {
   "display_name": ".venv",
   "language": "python",
   "name": "python3"
  },
  "language_info": {
   "codemirror_mode": {
    "name": "ipython",
    "version": 3
   },
   "file_extension": ".py",
   "mimetype": "text/x-python",
   "name": "python",
   "nbconvert_exporter": "python",
   "pygments_lexer": "ipython3",
   "version": "3.11.4"
  }
 },
 "nbformat": 4,
 "nbformat_minor": 2
}
