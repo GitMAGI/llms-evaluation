{
 "cells": [
  {
   "cell_type": "markdown",
   "metadata": {},
   "source": [
    "## Test mermaid"
   ]
  },
  {
   "cell_type": "markdown",
   "metadata": {},
   "source": [
    "```mermaid\n",
    "gitGraph:\n",
    "    commit \"Ashish\"\n",
    "    branch newbranch\n",
    "    checkout newbranch\n",
    "    commit id:\"1111\"\n",
    "    commit tag:\"test\"\n",
    "    checkout main\n",
    "    commit type: HIGHLIGHT\n",
    "    commit\n",
    "    merge newbranch\n",
    "    commit\n",
    "    branch b2\n",
    "    commit\n",
    " ```"
   ]
  },
  {
   "cell_type": "markdown",
   "metadata": {},
   "source": []
  }
 ],
 "metadata": {
  "language_info": {
   "name": "python"
  }
 },
 "nbformat": 4,
 "nbformat_minor": 2
}
