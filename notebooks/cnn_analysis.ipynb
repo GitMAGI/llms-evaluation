{
 "cells": [
  {
   "cell_type": "code",
   "execution_count": 106,
   "metadata": {},
   "outputs": [],
   "source": [
    "import numpy as np\n",
    "import os\n",
    "import sys"
   ]
  },
  {
   "cell_type": "code",
   "execution_count": 107,
   "metadata": {},
   "outputs": [],
   "source": [
    "# Work-around for loading a module from a parent folder in Jupyter/Notebooks\n",
    "parent_dir = os.path.abspath(os.path.join('..'))\n",
    "if parent_dir not in sys.path:\n",
    "    sys.path.append(parent_dir)\n",
    "from modules.utils import get_convolution_layer_expected_output_info"
   ]
  },
  {
   "cell_type": "code",
   "execution_count": 146,
   "metadata": {},
   "outputs": [],
   "source": [
    "n_filters = 10\n",
    "#padding = 'valid'  # No padding to the input\n",
    "padding = 'same'    # Apply padding to the input\n",
    "\n",
    "k=40\n",
    "s=30\n",
    "\n",
    "x_1d = np.random.rand(15, 120, 3)\n",
    "k_1d = (k,)\n",
    "s_1d = (s,)\n",
    "\n",
    "x_2d = np.random.rand(15, 120, 120, 3)\n",
    "k_2d = (k,k)\n",
    "s_2d = (s,s)\n",
    "\n",
    "x_3d = np.random.rand(15, 120, 120, 120, 3)\n",
    "k_3d = (k,k,k)\n",
    "s_3d = (s,s,s)"
   ]
  },
  {
   "cell_type": "code",
   "execution_count": 140,
   "metadata": {},
   "outputs": [],
   "source": [
    "from tensorflow.keras.layers import Conv1D, Conv2D, Conv3D\n",
    "\n",
    "def get_convolution_layer_output_info(input, kernel_shape, stride_shape, n_filters=10, padding='valid'):\n",
    "    n_dims = len(input.shape[1:-1])\n",
    "    if n_dims == 1:\n",
    "        conv = Conv1D(\n",
    "            filters=n_filters,\n",
    "            kernel_size=kernel_shape,\n",
    "            strides=stride_shape,\n",
    "            padding=padding,\n",
    "            name=f\"conv_{n_dims}d_layer\"\n",
    "        )\n",
    "    elif n_dims == 2:\n",
    "        conv = Conv2D(\n",
    "            filters=n_filters,\n",
    "            kernel_size=kernel_shape,\n",
    "            strides=stride_shape,\n",
    "            padding=padding,\n",
    "            name=f\"conv_{n_dims}d_layer\"\n",
    "        )\n",
    "    elif n_dims == 3:\n",
    "        conv = Conv3D(\n",
    "            filters=n_filters,\n",
    "            kernel_size=kernel_shape,\n",
    "            strides=stride_shape,\n",
    "            padding=padding,\n",
    "            name=f\"conv_{n_dims}d_layer\"\n",
    "        )\n",
    "    else:\n",
    "        return (None,),(None,)\n",
    "    y = conv(input)\n",
    "    output_shape = y.shape[1:]\n",
    "\n",
    "    #def get_padding_from_output(input, output, stride, kernel):\n",
    "    #    p = (((output-1)*stride)+kernel-input)/2\n",
    "    #    return int(p)\n",
    "    #padding_shape = tuple([get_padding_from_output(input.shape[1:-1][i], ow, stride_shape[i], kernel_shape[i]) for i, ow in enumerate(output_shape[:-1])])\n",
    "\n",
    "    #padding_shape = tuple([abs(int((((ow-1)*stride_shape[i])+kernel_shape[i]-input.shape[1:-1][i])/2)) for i, ow in enumerate(output_shape[:-1])])\n",
    "\n",
    "    #return output_shape, padding_shape, y\n",
    "    return output_shape, y"
   ]
  },
  {
   "cell_type": "markdown",
   "metadata": {},
   "source": [
    "# Convolution 1D"
   ]
  },
  {
   "cell_type": "code",
   "execution_count": 147,
   "metadata": {},
   "outputs": [
    {
     "name": "stdout",
     "output_type": "stream",
     "text": [
      "Input shape (Conv 1D): (120, 3)\n",
      "Expected output shape (Conv 1D): (4, 10), padding: (10,)\n",
      "Output shape (Conv 1D): (4, 10)\n"
     ]
    }
   ],
   "source": [
    "x = x_1d\n",
    "kernel_shape = k_1d\n",
    "stride_shape = s_1d\n",
    "\n",
    "name = 'Conv 1D'\n",
    "\n",
    "print(f'Input shape ({name}): {x.shape[1:]}')\n",
    "\n",
    "# Understaning the output shape of a Conv layer\n",
    "expected_output_shape, expected_padding_shape = get_convolution_layer_expected_output_info(x, kernel_shape, stride_shape, n_filters, padding)\n",
    "print(f'Expected output shape ({name}): {expected_output_shape}, padding: {expected_padding_shape}')\n",
    "\n",
    "output_shape, y = get_convolution_layer_output_info(x, kernel_shape, stride_shape, n_filters, padding)\n",
    "print(f'Output shape ({name}): {output_shape}')"
   ]
  },
  {
   "cell_type": "markdown",
   "metadata": {},
   "source": [
    "# Convolution 2D"
   ]
  },
  {
   "cell_type": "code",
   "execution_count": 148,
   "metadata": {},
   "outputs": [
    {
     "name": "stdout",
     "output_type": "stream",
     "text": [
      "Input shape (Conv 2D): (120, 120, 3)\n",
      "Expected output shape (Conv 2D): (4, 4, 10), padding: (10, 10)\n",
      "Output shape (Conv 2D): (4, 4, 10)\n"
     ]
    }
   ],
   "source": [
    "x = x_2d\n",
    "kernel_shape = k_2d\n",
    "stride_shape = s_2d\n",
    "\n",
    "name = 'Conv 2D'\n",
    "\n",
    "print(f'Input shape ({name}): {x.shape[1:]}')\n",
    "\n",
    "# Understaning the output shape of a Conv layer\n",
    "expected_output_shape, expected_padding_shape = get_convolution_layer_expected_output_info(x, kernel_shape, stride_shape, n_filters, padding)\n",
    "print(f'Expected output shape ({name}): {expected_output_shape}, padding: {expected_padding_shape}')\n",
    "\n",
    "output_shape, y = get_convolution_layer_output_info(x, kernel_shape, stride_shape, n_filters, padding)\n",
    "print(f'Output shape ({name}): {output_shape}')"
   ]
  },
  {
   "cell_type": "markdown",
   "metadata": {},
   "source": [
    "# Convolution 3D"
   ]
  },
  {
   "cell_type": "code",
   "execution_count": 149,
   "metadata": {},
   "outputs": [
    {
     "name": "stdout",
     "output_type": "stream",
     "text": [
      "Input shape (Conv 3D): (120, 120, 120, 3)\n",
      "Expected output shape (Conv 3D): (4, 4, 4, 10), padding: (10, 10, 10)\n",
      "Output shape (Conv 3D): (4, 4, 4, 10)\n"
     ]
    }
   ],
   "source": [
    "x = x_3d\n",
    "kernel_shape = k_3d\n",
    "stride_shape = s_3d\n",
    "\n",
    "name = 'Conv 3D'\n",
    "\n",
    "print(f'Input shape ({name}): {x.shape[1:]}')\n",
    "\n",
    "# Understaning the output shape of a Conv layer\n",
    "expected_output_shape, expected_padding_shape = get_convolution_layer_expected_output_info(x, kernel_shape, stride_shape, n_filters, padding)\n",
    "print(f'Expected output shape ({name}): {expected_output_shape}, padding: {expected_padding_shape}')\n",
    "\n",
    "output_shape, y = get_convolution_layer_output_info(x, kernel_shape, stride_shape, n_filters, padding)\n",
    "print(f'Output shape ({name}): {output_shape}')"
   ]
  },
  {
   "cell_type": "markdown",
   "metadata": {},
   "source": [
    "# Tests"
   ]
  },
  {
   "cell_type": "code",
   "execution_count": 144,
   "metadata": {},
   "outputs": [
    {
     "data": {
      "text/plain": [
       "(14, 14, 64)"
      ]
     },
     "metadata": {},
     "output_type": "display_data"
    },
    {
     "data": {
      "text/plain": [
       "(1, 1)"
      ]
     },
     "metadata": {},
     "output_type": "display_data"
    }
   ],
   "source": [
    "out_shape, pad_shape = get_convolution_layer_expected_output_info(np.random.rand(1, 28, 28, 32), (3,3), (2,2), n_filters=64, padding='same')\n",
    "display(out_shape, pad_shape)"
   ]
  },
  {
   "cell_type": "code",
   "execution_count": 145,
   "metadata": {},
   "outputs": [
    {
     "data": {
      "text/plain": [
       "(7, 7, 64)"
      ]
     },
     "metadata": {},
     "output_type": "display_data"
    },
    {
     "data": {
      "text/plain": [
       "(1, 1)"
      ]
     },
     "metadata": {},
     "output_type": "display_data"
    }
   ],
   "source": [
    "out_shape, pad_shape = get_convolution_layer_expected_output_info(np.random.rand(1, 14, 14, 64), (3,3), (2,2), n_filters=64, padding='same')\n",
    "display(out_shape, pad_shape)"
   ]
  }
 ],
 "metadata": {
  "kernelspec": {
   "display_name": ".venv",
   "language": "python",
   "name": "python3"
  },
  "language_info": {
   "codemirror_mode": {
    "name": "ipython",
    "version": 3
   },
   "file_extension": ".py",
   "mimetype": "text/x-python",
   "name": "python",
   "nbconvert_exporter": "python",
   "pygments_lexer": "ipython3",
   "version": "3.11.4"
  }
 },
 "nbformat": 4,
 "nbformat_minor": 2
}
