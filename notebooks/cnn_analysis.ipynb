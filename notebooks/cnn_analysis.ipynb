{
 "cells": [
  {
   "cell_type": "code",
   "execution_count": 11,
   "metadata": {},
   "outputs": [],
   "source": [
    "from tensorflow.keras.layers import Conv1D, Conv2D, Conv3D\n",
    "import numpy as np\n",
    "import os\n",
    "import sys"
   ]
  },
  {
   "cell_type": "code",
   "execution_count": 12,
   "metadata": {},
   "outputs": [],
   "source": [
    "# Work-around for loading a module from a parent folder in Jupyter/Notebooks\n",
    "parent_dir = os.path.abspath(os.path.join('..'))\n",
    "if parent_dir not in sys.path:\n",
    "    sys.path.append(parent_dir)\n",
    "from modules.utils import get_convolution_layer_expected_output_info"
   ]
  },
  {
   "cell_type": "code",
   "execution_count": 13,
   "metadata": {},
   "outputs": [],
   "source": [
    "n_filters = 10\n",
    "padding = 'valid'  # No padding to the input\n",
    "#padding = 'same'    # Apply padding to the input\n",
    "\n",
    "k=40\n",
    "s=30\n",
    "\n",
    "x_1d = np.random.rand(15, 120, 3)\n",
    "k_1d = (k,)\n",
    "s_1d = (s,)\n",
    "\n",
    "x_2d = np.random.rand(15, 120, 120, 3)\n",
    "k_2d = (k,k)\n",
    "s_2d = (s,s)\n",
    "\n",
    "x_3d = np.random.rand(15, 120, 120, 120, 3)\n",
    "k_3d = (k,k,k)\n",
    "s_3d = (s,s,s)"
   ]
  },
  {
   "cell_type": "markdown",
   "metadata": {},
   "source": [
    "# Convolution 1D"
   ]
  },
  {
   "cell_type": "code",
   "execution_count": 14,
   "metadata": {},
   "outputs": [
    {
     "name": "stdout",
     "output_type": "stream",
     "text": [
      "Expected output shape (Conv 1D): (3, 10)\n",
      "Conv1D output shape: (3, 10)\n"
     ]
    }
   ],
   "source": [
    "x = x_1d\n",
    "kernel_shape = k_1d\n",
    "stride_shape = s_1d\n",
    "\n",
    "# Understaning the output shape of a Conv layer\n",
    "expected_output_shape, padding_shape = get_convolution_layer_expected_output_info(x, kernel_shape, stride_shape, n_filters, padding)\n",
    "print(f'Expected output shape (Conv 1D): {expected_output_shape}')\n",
    "\n",
    "y = Conv1D(\n",
    "    filters=n_filters,\n",
    "    kernel_size=kernel_shape,\n",
    "    strides=stride_shape,\n",
    "    padding=padding,\n",
    "    name=f\"test_conv_1d_layer\"\n",
    ")(x)\n",
    "print(f'Conv1D output shape: {tuple(y.shape[1:])}')"
   ]
  },
  {
   "cell_type": "markdown",
   "metadata": {},
   "source": [
    "# Convolution 2D"
   ]
  },
  {
   "cell_type": "code",
   "execution_count": 15,
   "metadata": {},
   "outputs": [
    {
     "name": "stdout",
     "output_type": "stream",
     "text": [
      "Expected output shape (Conv 2D): (3, 3, 10)\n",
      "Conv2D output shape: (3, 3, 10)\n"
     ]
    }
   ],
   "source": [
    "x = x_2d\n",
    "kernel_shape = k_2d\n",
    "stride_shape = s_2d\n",
    "\n",
    "# Understaning the output shape of a Conv layer\n",
    "expected_output_shape, padding_shape = get_convolution_layer_expected_output_info(x, kernel_shape, stride_shape, n_filters, padding)\n",
    "print(f'Expected output shape (Conv 2D): {expected_output_shape}')\n",
    "\n",
    "y = Conv2D(\n",
    "    filters=n_filters,\n",
    "    kernel_size=kernel_shape,\n",
    "    strides=stride_shape,\n",
    "    padding=padding,\n",
    "    name=f\"test_conv_2d_layer\"\n",
    ")(x)\n",
    "print(f'Conv2D output shape: {tuple(y.shape[1:])}')"
   ]
  },
  {
   "cell_type": "markdown",
   "metadata": {},
   "source": [
    "# Convolution 3D"
   ]
  },
  {
   "cell_type": "code",
   "execution_count": 16,
   "metadata": {},
   "outputs": [
    {
     "name": "stdout",
     "output_type": "stream",
     "text": [
      "Expected output shape (Conv 3D): (3, 3, 3, 10)\n",
      "Conv3D output shape: (3, 3, 3, 10)\n"
     ]
    }
   ],
   "source": [
    "x = x_3d\n",
    "kernel_shape = k_3d\n",
    "stride_shape = s_3d\n",
    "\n",
    "# Understaning the output shape of a Conv layer\n",
    "expected_output_shape, padding_shape = get_convolution_layer_expected_output_info(x, kernel_shape, stride_shape, n_filters, padding)\n",
    "print(f'Expected output shape (Conv 3D): {expected_output_shape}')\n",
    "\n",
    "y = Conv3D(\n",
    "    filters=n_filters,\n",
    "    kernel_size=kernel_shape,\n",
    "    strides=stride_shape,\n",
    "    padding=padding,\n",
    "    name=f\"test_conv_3d_layer\"\n",
    ")(x)\n",
    "print(f'Conv3D output shape: {tuple(y.shape[1:])}')"
   ]
  },
  {
   "cell_type": "markdown",
   "metadata": {},
   "source": [
    "# Tests"
   ]
  },
  {
   "cell_type": "code",
   "execution_count": 19,
   "metadata": {},
   "outputs": [
    {
     "data": {
      "text/plain": [
       "(14, 14, 64)"
      ]
     },
     "metadata": {},
     "output_type": "display_data"
    },
    {
     "data": {
      "text/plain": [
       "(1, 1)"
      ]
     },
     "metadata": {},
     "output_type": "display_data"
    }
   ],
   "source": [
    "out_shape, pad_shape = get_convolution_layer_expected_output_info(np.random.rand(1, 28, 28, 32), (3,3), (2,2), n_filters=64, padding='same')\n",
    "display(out_shape, pad_shape)"
   ]
  },
  {
   "cell_type": "code",
   "execution_count": 20,
   "metadata": {},
   "outputs": [
    {
     "data": {
      "text/plain": [
       "(7, 7, 64)"
      ]
     },
     "metadata": {},
     "output_type": "display_data"
    },
    {
     "data": {
      "text/plain": [
       "(1, 1)"
      ]
     },
     "metadata": {},
     "output_type": "display_data"
    }
   ],
   "source": [
    "out_shape, pad_shape = get_convolution_layer_expected_output_info(np.random.rand(1, 14, 14, 64), (3,3), (2,2), n_filters=64, padding='same')\n",
    "display(out_shape, pad_shape)"
   ]
  }
 ],
 "metadata": {
  "kernelspec": {
   "display_name": ".venv",
   "language": "python",
   "name": "python3"
  },
  "language_info": {
   "codemirror_mode": {
    "name": "ipython",
    "version": 3
   },
   "file_extension": ".py",
   "mimetype": "text/x-python",
   "name": "python",
   "nbconvert_exporter": "python",
   "pygments_lexer": "ipython3",
   "version": "3.11.4"
  }
 },
 "nbformat": 4,
 "nbformat_minor": 2
}
