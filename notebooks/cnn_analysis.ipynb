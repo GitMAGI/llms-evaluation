{
 "cells": [
  {
   "cell_type": "code",
   "execution_count": 140,
   "metadata": {},
   "outputs": [],
   "source": [
    "from tensorflow.keras.layers import Conv1D, Conv2D, Conv3D\n",
    "import numpy as np"
   ]
  },
  {
   "cell_type": "code",
   "execution_count": null,
   "metadata": {},
   "outputs": [],
   "source": [
    "n_filters = 10\n",
    "padding = 'valid'  # No padding to the input\n",
    "#padding = 'same'    # Apply padding to the input\n",
    "\n",
    "k=40\n",
    "s=30\n",
    "\n",
    "x_1d = np.random.rand(15, 120, 3)\n",
    "k_1d = (k,)\n",
    "s_1d = (s,)\n",
    "\n",
    "x_2d = np.random.rand(15, 120, 120, 3)\n",
    "k_2d = (k,k)\n",
    "s_2d = (s,s)\n",
    "\n",
    "x_3d = np.random.rand(15, 120, 120, 120, 3)\n",
    "k_3d = (k,k,k)\n",
    "s_3d = (s,s,s)"
   ]
  },
  {
   "cell_type": "code",
   "execution_count": 142,
   "metadata": {},
   "outputs": [],
   "source": [
    "def padding_computing(width, kernel, stride):\n",
    "    ss = range(0,width-kernel,stride)[-1]\n",
    "    #print(f\"first ss: {ss}\")\n",
    "    while ss+kernel < width:\n",
    "        ss = ss+stride\n",
    "    #print(f\"last ss: {ss}\")\n",
    "    return ((ss+kernel)-width)"
   ]
  },
  {
   "cell_type": "markdown",
   "metadata": {},
   "source": [
    "# Convolution 1D"
   ]
  },
  {
   "cell_type": "code",
   "execution_count": 143,
   "metadata": {},
   "outputs": [
    {
     "name": "stdout",
     "output_type": "stream",
     "text": [
      "Expected output shape (Conv 1D): (3, 10)\n",
      "Conv1D output shape: (3, 10)\n"
     ]
    }
   ],
   "source": [
    "x = x_1d\n",
    "kernel_shape = k_1d\n",
    "stride_shape = s_1d\n",
    "\n",
    "# Understaning the output shape of a Conv layer\n",
    "n_dims = len(x.shape[1:-1])\n",
    "input_shape = tuple(x.shape[1:])\n",
    "padding_shape = tuple(np.zeros((n_dims,),dtype=np.int32))\n",
    "if padding.lower() != 'valid'.lower():\n",
    "    padding_shape = tuple([padding_computing(input_shape[:-1][i], kernel_shape[i], stride_shape[i]) for i in range(0,len(stride_shape))])\n",
    "expected_output_shape = tuple([int((d-kernel_shape[i]+2*padding_shape[i])/stride_shape[i])+1 for i, d in enumerate(input_shape[:-1])]) + (n_filters,)\n",
    "print(f'Expected output shape (Conv 1D): {expected_output_shape}')\n",
    "\n",
    "y = Conv1D(\n",
    "    filters=n_filters,\n",
    "    kernel_size=kernel_shape,\n",
    "    strides=stride_shape,\n",
    "    padding=padding,\n",
    "    name=f\"test_conv_1d_layer\"\n",
    ")(x)\n",
    "print(f'Conv1D output shape: {tuple(y.shape[1:])}')"
   ]
  },
  {
   "cell_type": "markdown",
   "metadata": {},
   "source": [
    "# Convolution 2D"
   ]
  },
  {
   "cell_type": "code",
   "execution_count": 144,
   "metadata": {},
   "outputs": [
    {
     "name": "stdout",
     "output_type": "stream",
     "text": [
      "Expected output shape (Conv 2D): (3, 3, 10)\n",
      "Conv2D output shape: (3, 3, 10)\n"
     ]
    }
   ],
   "source": [
    "x = x_2d\n",
    "kernel_shape = k_2d\n",
    "stride_shape = s_2d\n",
    "\n",
    "# Understaning the output shape of a Conv layer\n",
    "n_dims = len(x.shape[1:-1])\n",
    "input_shape = tuple(x.shape[1:])\n",
    "padding_shape = tuple(np.zeros((n_dims,),dtype=np.int32))\n",
    "if padding.lower() != 'valid'.lower():\n",
    "    padding_shape = tuple([padding_computing(input_shape[:-1][i], kernel_shape[i], stride_shape[i]) for i in range(0,len(stride_shape))])\n",
    "expected_output_shape = tuple([int((d-kernel_shape[i]+2*padding_shape[i])/stride_shape[i])+1 for i, d in enumerate(input_shape[:-1])]) + (n_filters,)\n",
    "print(f'Expected output shape (Conv 2D): {expected_output_shape}')\n",
    "\n",
    "y = Conv2D(\n",
    "    filters=n_filters,\n",
    "    kernel_size=kernel_shape,\n",
    "    strides=stride_shape,\n",
    "    padding=padding,\n",
    "    name=f\"test_conv_2d_layer\"\n",
    ")(x)\n",
    "print(f'Conv2D output shape: {tuple(y.shape[1:])}')"
   ]
  },
  {
   "cell_type": "markdown",
   "metadata": {},
   "source": [
    "# Convolution 3D"
   ]
  },
  {
   "cell_type": "code",
   "execution_count": 145,
   "metadata": {},
   "outputs": [
    {
     "name": "stdout",
     "output_type": "stream",
     "text": [
      "Expected output shape (Conv 3D): (3, 3, 3, 10)\n",
      "Conv3D output shape: (3, 3, 3, 10)\n"
     ]
    }
   ],
   "source": [
    "x = x_3d\n",
    "kernel_shape = k_3d\n",
    "stride_shape = s_3d\n",
    "\n",
    "# Understaning the output shape of a Conv layer\n",
    "n_dims = len(x.shape[1:-1])\n",
    "input_shape = tuple(x.shape[1:])\n",
    "padding_shape = tuple(np.zeros((n_dims,),dtype=np.int32))\n",
    "if padding.lower() != 'valid'.lower():\n",
    "    padding_shape = tuple([padding_computing(input_shape[:-1][i], kernel_shape[i], stride_shape[i]) for i in range(0,len(stride_shape))])\n",
    "expected_output_shape = tuple([int((d-kernel_shape[i]+2*padding_shape[i])/stride_shape[i])+1 for i, d in enumerate(input_shape[:-1])]) + (n_filters,)\n",
    "print(f'Expected output shape (Conv 3D): {expected_output_shape}')\n",
    "\n",
    "y = Conv3D(\n",
    "    filters=n_filters,\n",
    "    kernel_size=kernel_shape,\n",
    "    strides=stride_shape,\n",
    "    padding=padding,\n",
    "    name=f\"test_conv_3d_layer\"\n",
    ")(x)\n",
    "print(f'Conv3D output shape: {tuple(y.shape[1:])}')"
   ]
  }
 ],
 "metadata": {
  "kernelspec": {
   "display_name": ".venv",
   "language": "python",
   "name": "python3"
  },
  "language_info": {
   "codemirror_mode": {
    "name": "ipython",
    "version": 3
   },
   "file_extension": ".py",
   "mimetype": "text/x-python",
   "name": "python",
   "nbconvert_exporter": "python",
   "pygments_lexer": "ipython3",
   "version": "3.11.4"
  }
 },
 "nbformat": 4,
 "nbformat_minor": 2
}
