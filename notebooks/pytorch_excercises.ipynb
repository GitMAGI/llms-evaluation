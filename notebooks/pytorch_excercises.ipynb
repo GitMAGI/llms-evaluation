{
 "cells": [
  {
   "cell_type": "code",
   "execution_count": 1,
   "id": "d1c72a16",
   "metadata": {},
   "outputs": [],
   "source": [
    "import torch"
   ]
  },
  {
   "cell_type": "markdown",
   "id": "2a4d1d01",
   "metadata": {},
   "source": [
    "### PyTorch Version"
   ]
  },
  {
   "cell_type": "code",
   "execution_count": 2,
   "id": "c2f195f9",
   "metadata": {},
   "outputs": [
    {
     "name": "stdout",
     "output_type": "stream",
     "text": [
      "2.6.0+cu124\n"
     ]
    }
   ],
   "source": [
    "print(torch.__version__)"
   ]
  },
  {
   "cell_type": "markdown",
   "id": "1f0627e3",
   "metadata": {},
   "source": [
    "### Cuda info"
   ]
  },
  {
   "cell_type": "code",
   "execution_count": 3,
   "id": "ff015308",
   "metadata": {},
   "outputs": [
    {
     "name": "stdout",
     "output_type": "stream",
     "text": [
      "Tue May  6 20:41:42 2025       \n",
      "+-----------------------------------------------------------------------------------------+\n",
      "| NVIDIA-SMI 550.163.01             Driver Version: 550.163.01     CUDA Version: 12.4     |\n",
      "|-----------------------------------------+------------------------+----------------------+\n",
      "| GPU  Name                 Persistence-M | Bus-Id          Disp.A | Volatile Uncorr. ECC |\n",
      "| Fan  Temp   Perf          Pwr:Usage/Cap |           Memory-Usage | GPU-Util  Compute M. |\n",
      "|                                         |                        |               MIG M. |\n",
      "|=========================================+========================+======================|\n",
      "|   0  NVIDIA GeForce RTX 3080        Off |   00000000:01:00.0  On |                  N/A |\n",
      "| 47%   32C    P8             28W /  350W |     769MiB /  12288MiB |     20%      Default |\n",
      "|                                         |                        |                  N/A |\n",
      "+-----------------------------------------+------------------------+----------------------+\n",
      "                                                                                         \n",
      "+-----------------------------------------------------------------------------------------+\n",
      "| Processes:                                                                              |\n",
      "|  GPU   GI   CI        PID   Type   Process name                              GPU Memory |\n",
      "|        ID   ID                                                               Usage      |\n",
      "|=========================================================================================|\n",
      "|    0   N/A  N/A      2414      G   /usr/lib/xorg/Xorg                            163MiB |\n",
      "|    0   N/A  N/A      2563      G   /usr/bin/gnome-shell                          265MiB |\n",
      "|    0   N/A  N/A    134378      G   /usr/lib/firefox/firefox                      131MiB |\n",
      "|    0   N/A  N/A    228836      G   ...erProcess --variations-seed-version         40MiB |\n",
      "|    0   N/A  N/A    233683      G   ...erProcess --variations-seed-version        147MiB |\n",
      "+-----------------------------------------------------------------------------------------+\n"
     ]
    }
   ],
   "source": [
    "!nvidia-smi"
   ]
  },
  {
   "cell_type": "markdown",
   "id": "2371a75e",
   "metadata": {},
   "source": [
    "### PyTorch default settings"
   ]
  },
  {
   "cell_type": "code",
   "execution_count": 4,
   "id": "c4b58dae",
   "metadata": {},
   "outputs": [
    {
     "data": {
      "text/plain": [
       "torch.float32"
      ]
     },
     "metadata": {},
     "output_type": "display_data"
    },
    {
     "data": {
      "text/plain": [
       "device(type='cpu')"
      ]
     },
     "metadata": {},
     "output_type": "display_data"
    }
   ],
   "source": [
    "display(torch.get_default_dtype())\n",
    "display(torch.get_default_device())"
   ]
  },
  {
   "cell_type": "markdown",
   "id": "0d395b43",
   "metadata": {},
   "source": [
    "### Scalar"
   ]
  },
  {
   "cell_type": "code",
   "execution_count": 5,
   "id": "a3218fe3",
   "metadata": {},
   "outputs": [
    {
     "name": "stdout",
     "output_type": "stream",
     "text": [
      "tens_0 ndim: 0, shape torch.Size([]), requires_grad False, dtype torch.float32 device cpu\n"
     ]
    },
    {
     "data": {
      "text/plain": [
       "tensor(0.8499)"
      ]
     },
     "metadata": {},
     "output_type": "display_data"
    },
    {
     "name": "stdout",
     "output_type": "stream",
     "text": [
      "tens_gpu_0 ndim: 0, shape torch.Size([]), requires_grad False, dtype torch.float32 device cuda:0\n"
     ]
    },
    {
     "data": {
      "text/plain": [
       "tensor(0.2707, device='cuda:0')"
      ]
     },
     "metadata": {},
     "output_type": "display_data"
    }
   ],
   "source": [
    "tens_0 = torch.rand(size=(), dtype=None, device=None, requires_grad=False)\n",
    "print(f\"tens_0 ndim: {tens_0.ndim}, shape {tens_0.shape}, requires_grad {tens_0.requires_grad}, dtype {tens_0.dtype} device {tens_0.device}\")\n",
    "display(tens_0)\n",
    "\n",
    "tens_gpu_0 = torch.rand(size=(), dtype=None, device='cuda', requires_grad=False)\n",
    "print(f\"tens_gpu_0 ndim: {tens_gpu_0.ndim}, shape {tens_gpu_0.shape}, requires_grad {tens_gpu_0.requires_grad}, dtype {tens_gpu_0.dtype} device {tens_gpu_0.device}\")\n",
    "display(tens_gpu_0)"
   ]
  },
  {
   "cell_type": "markdown",
   "id": "b45c400a",
   "metadata": {},
   "source": [
    "### Vector"
   ]
  },
  {
   "cell_type": "code",
   "execution_count": 6,
   "id": "8a7b9079",
   "metadata": {},
   "outputs": [
    {
     "name": "stdout",
     "output_type": "stream",
     "text": [
      "tens_1 ndim: 1, shape torch.Size([3]), requires_grad False, dtype torch.float32 device cpu\n"
     ]
    },
    {
     "data": {
      "text/plain": [
       "tensor([0.6140, 0.2942, 0.7056])"
      ]
     },
     "metadata": {},
     "output_type": "display_data"
    },
    {
     "name": "stdout",
     "output_type": "stream",
     "text": [
      "tens_gpu_1 ndim: 1, shape torch.Size([3]), requires_grad False, dtype torch.float32 device cuda:0\n"
     ]
    },
    {
     "data": {
      "text/plain": [
       "tensor([0.9616, 0.0813, 0.9310], device='cuda:0')"
      ]
     },
     "metadata": {},
     "output_type": "display_data"
    }
   ],
   "source": [
    "tens_1 = torch.rand(size=(3,), dtype=None, device=None, requires_grad=False)\n",
    "print(f\"tens_1 ndim: {tens_1.ndim}, shape {tens_1.shape}, requires_grad {tens_1.requires_grad}, dtype {tens_1.dtype} device {tens_1.device}\")\n",
    "display(tens_1)\n",
    "\n",
    "tens_gpu_1 = torch.rand(size=(3,), dtype=None, device='cuda', requires_grad=False)\n",
    "print(f\"tens_gpu_1 ndim: {tens_gpu_1.ndim}, shape {tens_gpu_1.shape}, requires_grad {tens_gpu_1.requires_grad}, dtype {tens_gpu_1.dtype} device {tens_gpu_1.device}\")\n",
    "display(tens_gpu_1)"
   ]
  },
  {
   "cell_type": "markdown",
   "id": "6267e174",
   "metadata": {},
   "source": [
    "### Matrix"
   ]
  },
  {
   "cell_type": "code",
   "execution_count": 7,
   "id": "09427bcd",
   "metadata": {},
   "outputs": [
    {
     "name": "stdout",
     "output_type": "stream",
     "text": [
      "tens_2 ndim: 2, shape torch.Size([3, 4]), requires_grad False, dtype torch.float32, device cpu\n"
     ]
    },
    {
     "data": {
      "text/plain": [
       "tensor([[0.2956, 0.2493, 0.1893, 0.4006],\n",
       "        [0.2474, 0.6137, 0.5858, 0.9515],\n",
       "        [0.8006, 0.7146, 0.5496, 0.8154]])"
      ]
     },
     "metadata": {},
     "output_type": "display_data"
    },
    {
     "name": "stdout",
     "output_type": "stream",
     "text": [
      "tens_gpu_2 ndim: 2, shape torch.Size([3, 4]), requires_grad False, dtype torch.float32 device cuda:0\n"
     ]
    },
    {
     "data": {
      "text/plain": [
       "tensor([[0.0571, 0.1261, 0.6094, 0.1559],\n",
       "        [0.0652, 0.3289, 0.4815, 0.3978],\n",
       "        [0.1853, 0.9779, 0.6705, 0.4591]], device='cuda:0')"
      ]
     },
     "metadata": {},
     "output_type": "display_data"
    }
   ],
   "source": [
    "tens_2 = torch.rand(size=(3, 4), dtype=None, device=None)\n",
    "print(f\"tens_2 ndim: {tens_2.ndim}, shape {tens_2.shape}, requires_grad {tens_2.requires_grad}, dtype {tens_2.dtype}, device {tens_2.device}\")\n",
    "display(tens_2)\n",
    "\n",
    "tens_gpu_2 = torch.rand(size=(3, 4), dtype=None, device='cuda', requires_grad=False)\n",
    "print(f\"tens_gpu_2 ndim: {tens_gpu_2.ndim}, shape {tens_gpu_2.shape}, requires_grad {tens_gpu_2.requires_grad}, dtype {tens_gpu_2.dtype} device {tens_gpu_2.device}\")\n",
    "display(tens_gpu_2)"
   ]
  },
  {
   "cell_type": "markdown",
   "id": "ec4e045c",
   "metadata": {},
   "source": [
    "### Tensor"
   ]
  },
  {
   "cell_type": "code",
   "execution_count": 8,
   "id": "9cf5ca22",
   "metadata": {},
   "outputs": [
    {
     "name": "stdout",
     "output_type": "stream",
     "text": [
      "tens_3 ndim: 3, shape torch.Size([5, 4, 3]), requires_grad False, dtype torch.float32, device cpu\n"
     ]
    },
    {
     "data": {
      "text/plain": [
       "tensor([[[0.0401, 0.0613, 0.8162],\n",
       "         [0.7142, 0.5611, 0.5152],\n",
       "         [0.1524, 0.2851, 0.8994],\n",
       "         [0.3334, 0.7800, 0.0994]],\n",
       "\n",
       "        [[0.3964, 0.4618, 0.2306],\n",
       "         [0.0015, 0.0883, 0.1718],\n",
       "         [0.5021, 0.1769, 0.5006],\n",
       "         [0.1756, 0.9491, 0.8398]],\n",
       "\n",
       "        [[0.4016, 0.2793, 0.8074],\n",
       "         [0.9693, 0.6042, 0.0234],\n",
       "         [0.9251, 0.9997, 0.4013],\n",
       "         [0.2618, 0.1507, 0.8410]],\n",
       "\n",
       "        [[0.2620, 0.0991, 0.7832],\n",
       "         [0.5182, 0.0099, 0.4430],\n",
       "         [0.9841, 0.7633, 0.0519],\n",
       "         [0.6224, 0.6249, 0.8561]],\n",
       "\n",
       "        [[0.6104, 0.0505, 0.9420],\n",
       "         [0.3805, 0.2164, 0.3471],\n",
       "         [0.2568, 0.7037, 0.9611],\n",
       "         [0.4416, 0.0809, 0.3906]]])"
      ]
     },
     "metadata": {},
     "output_type": "display_data"
    },
    {
     "name": "stdout",
     "output_type": "stream",
     "text": [
      "tens_gpu_3 ndim: 3, shape torch.Size([5, 4, 3]), requires_grad False, dtype torch.float32 device cuda:0\n"
     ]
    },
    {
     "data": {
      "text/plain": [
       "tensor([[[0.2481, 0.4504, 0.4275],\n",
       "         [0.4969, 0.8062, 0.9373],\n",
       "         [0.2910, 0.8651, 0.6117],\n",
       "         [0.8784, 0.1687, 0.4649]],\n",
       "\n",
       "        [[0.2263, 0.3158, 0.0770],\n",
       "         [0.7592, 0.0360, 0.7338],\n",
       "         [0.0328, 0.5143, 0.5474],\n",
       "         [0.9992, 0.9710, 0.9666]],\n",
       "\n",
       "        [[0.8150, 0.6261, 0.9308],\n",
       "         [0.2976, 0.3789, 0.4227],\n",
       "         [0.9035, 0.4788, 0.6278],\n",
       "         [0.2629, 0.2165, 0.2589]],\n",
       "\n",
       "        [[0.4806, 0.8161, 0.3452],\n",
       "         [0.6338, 0.7258, 0.2525],\n",
       "         [0.0014, 0.2996, 0.5218],\n",
       "         [0.2044, 0.1692, 0.2362]],\n",
       "\n",
       "        [[0.8548, 0.1566, 0.7582],\n",
       "         [0.8666, 0.5274, 0.9018],\n",
       "         [0.5270, 0.0193, 0.4178],\n",
       "         [0.0430, 0.6465, 0.8775]]], device='cuda:0')"
      ]
     },
     "metadata": {},
     "output_type": "display_data"
    }
   ],
   "source": [
    "tens_3 = torch.rand(size=(5, 4, 3), dtype=None, device=None)\n",
    "print(f\"tens_3 ndim: {tens_3.ndim}, shape {tens_3.shape}, requires_grad {tens_3.requires_grad}, dtype {tens_3.dtype}, device {tens_3.device}\")\n",
    "display(tens_3)\n",
    "\n",
    "tens_gpu_3 = torch.rand(size=(5, 4, 3), dtype=None, device='cuda', requires_grad=False)\n",
    "print(f\"tens_gpu_3 ndim: {tens_gpu_3.ndim}, shape {tens_gpu_3.shape}, requires_grad {tens_gpu_3.requires_grad}, dtype {tens_gpu_3.dtype} device {tens_gpu_3.device}\")\n",
    "display(tens_gpu_3)"
   ]
  },
  {
   "cell_type": "markdown",
   "id": "c667ac4f",
   "metadata": {},
   "source": [
    "### Tensor Operations"
   ]
  },
  {
   "cell_type": "code",
   "execution_count": 9,
   "id": "be33c027",
   "metadata": {},
   "outputs": [],
   "source": [
    "tens_2a = torch.rand(size=(4,2), dtype=torch.float32, device='cuda', requires_grad=False)\n",
    "tens_2b = torch.rand(size=(4,2), dtype=torch.float32, device='cuda', requires_grad=False)"
   ]
  },
  {
   "cell_type": "code",
   "execution_count": 10,
   "id": "5e451e86",
   "metadata": {},
   "outputs": [
    {
     "name": "stdout",
     "output_type": "stream",
     "text": [
      "tens_2a ndim: 2, shape torch.Size([4, 2]), requires_grad False, dtype torch.float32, device cuda:0\n"
     ]
    },
    {
     "data": {
      "text/plain": [
       "tensor([[0.7943, 0.7654],\n",
       "        [0.4893, 0.1772],\n",
       "        [0.4539, 0.7225],\n",
       "        [0.0665, 0.7627]], device='cuda:0')"
      ]
     },
     "metadata": {},
     "output_type": "display_data"
    },
    {
     "name": "stdout",
     "output_type": "stream",
     "text": [
      "tens_2b ndim: 2, shape torch.Size([4, 2]), requires_grad False, dtype torch.float32, device cuda:0\n"
     ]
    },
    {
     "data": {
      "text/plain": [
       "tensor([[0.8270, 0.3720],\n",
       "        [0.5916, 0.1566],\n",
       "        [0.0620, 0.4080],\n",
       "        [0.3760, 0.5122]], device='cuda:0')"
      ]
     },
     "metadata": {},
     "output_type": "display_data"
    },
    {
     "name": "stdout",
     "output_type": "stream",
     "text": [
      "tens_2b_T ndim: 2, shape torch.Size([2, 4]), requires_grad False, dtype torch.float32, device cuda:0\n"
     ]
    },
    {
     "data": {
      "text/plain": [
       "tensor([[0.8270, 0.5916, 0.0620, 0.3760],\n",
       "        [0.3720, 0.1566, 0.4080, 0.5122]], device='cuda:0')"
      ]
     },
     "metadata": {},
     "output_type": "display_data"
    },
    {
     "name": "stdout",
     "output_type": "stream",
     "text": [
      "tens_2_sum ndim: 2, shape torch.Size([4, 2]), requires_grad False, dtype torch.float32, device cuda:0\n"
     ]
    },
    {
     "data": {
      "text/plain": [
       "tensor([[1.6213, 1.1375],\n",
       "        [1.0809, 0.3338],\n",
       "        [0.5159, 1.1305],\n",
       "        [0.4425, 1.2749]], device='cuda:0')"
      ]
     },
     "metadata": {},
     "output_type": "display_data"
    },
    {
     "name": "stdout",
     "output_type": "stream",
     "text": [
      "tens_2_mul ndim: 2, shape torch.Size([4, 2]), requires_grad False, dtype torch.float32, device cuda:0\n"
     ]
    },
    {
     "data": {
      "text/plain": [
       "tensor([[0.6569, 0.2848],\n",
       "        [0.2895, 0.0277],\n",
       "        [0.0281, 0.2948],\n",
       "        [0.0250, 0.3906]], device='cuda:0')"
      ]
     },
     "metadata": {},
     "output_type": "display_data"
    },
    {
     "name": "stdout",
     "output_type": "stream",
     "text": [
      "tens_2_matmul ndim: 2, shape torch.Size([4, 4]), requires_grad False, dtype torch.float32, device cuda:0\n"
     ]
    },
    {
     "data": {
      "text/plain": [
       "tensor([[0.9416, 0.5897, 0.3615, 0.6907],\n",
       "        [0.4706, 0.3172, 0.1026, 0.2747],\n",
       "        [0.6441, 0.3816, 0.3229, 0.5407],\n",
       "        [0.3388, 0.1588, 0.3153, 0.4156]], device='cuda:0')"
      ]
     },
     "metadata": {},
     "output_type": "display_data"
    }
   ],
   "source": [
    "print(f\"tens_2a ndim: {tens_2a.ndim}, shape {tens_2a.shape}, requires_grad {tens_2a.requires_grad}, dtype {tens_2a.dtype}, device {tens_2a.device}\")\n",
    "display(tens_2a)\n",
    "print(f\"tens_2b ndim: {tens_2b.ndim}, shape {tens_2b.shape}, requires_grad {tens_2b.requires_grad}, dtype {tens_2b.dtype}, device {tens_2b.device}\")\n",
    "display(tens_2b)\n",
    "\n",
    "tens_2b_T = tens_2b.transpose(1,0)\n",
    "print(f\"tens_2b_T ndim: {tens_2b_T.ndim}, shape {tens_2b_T.shape}, requires_grad {tens_2b_T.requires_grad}, dtype {tens_2b_T.dtype}, device {tens_2b_T.device}\")\n",
    "display(tens_2b_T)\n",
    "\n",
    "tens_2_sum = tens_2a + tens_2b\n",
    "tens_2_mul = tens_2a * tens_2b\n",
    "tens_2_matmul = torch.matmul(tens_2a, tens_2b_T)\n",
    "\n",
    "print(f\"tens_2_sum ndim: {tens_2_sum.ndim}, shape {tens_2_sum.shape}, requires_grad {tens_2_sum.requires_grad}, dtype {tens_2_sum.dtype}, device {tens_2_sum.device}\")\n",
    "display(tens_2_sum)\n",
    "print(f\"tens_2_mul ndim: {tens_2_mul.ndim}, shape {tens_2_mul.shape}, requires_grad {tens_2_mul.requires_grad}, dtype {tens_2_mul.dtype}, device {tens_2_mul.device}\")\n",
    "display(tens_2_mul)\n",
    "print(f\"tens_2_matmul ndim: {tens_2_matmul.ndim}, shape {tens_2_matmul.shape}, requires_grad {tens_2_matmul.requires_grad}, dtype {tens_2_matmul.dtype}, device {tens_2_matmul.device}\")\n",
    "display(tens_2_matmul)\n"
   ]
  },
  {
   "cell_type": "code",
   "execution_count": 11,
   "id": "2bef6ebf",
   "metadata": {},
   "outputs": [],
   "source": [
    "tens_3a = torch.rand(size=(3,4,2), dtype=torch.float32, device='cuda', requires_grad=False)\n",
    "tens_3b = torch.rand(size=(3,4,2), dtype=torch.float32, device='cuda', requires_grad=False)"
   ]
  },
  {
   "cell_type": "code",
   "execution_count": 12,
   "id": "61383b2f",
   "metadata": {},
   "outputs": [
    {
     "name": "stdout",
     "output_type": "stream",
     "text": [
      "tens_3a ndim: 3, shape torch.Size([3, 4, 2]), requires_grad False, dtype torch.float32, device cuda:0\n"
     ]
    },
    {
     "data": {
      "text/plain": [
       "tensor([[[0.7025, 0.4328],\n",
       "         [0.3976, 0.3876],\n",
       "         [0.0293, 0.0450],\n",
       "         [0.4908, 0.4114]],\n",
       "\n",
       "        [[0.7984, 0.3443],\n",
       "         [0.1960, 0.4598],\n",
       "         [0.0093, 0.2028],\n",
       "         [0.3327, 0.8757]],\n",
       "\n",
       "        [[0.5135, 0.9614],\n",
       "         [0.0236, 0.5035],\n",
       "         [0.8847, 0.8998],\n",
       "         [0.9490, 0.4659]]], device='cuda:0')"
      ]
     },
     "metadata": {},
     "output_type": "display_data"
    },
    {
     "name": "stdout",
     "output_type": "stream",
     "text": [
      "tens_3b ndim: 3, shape torch.Size([3, 4, 2]), requires_grad False, dtype torch.float32, device cuda:0\n"
     ]
    },
    {
     "data": {
      "text/plain": [
       "tensor([[[0.1378, 0.5240],\n",
       "         [0.0195, 0.6092],\n",
       "         [0.7517, 0.9460],\n",
       "         [0.1038, 0.0447]],\n",
       "\n",
       "        [[0.6683, 0.0187],\n",
       "         [0.9743, 0.5798],\n",
       "         [0.5918, 0.8458],\n",
       "         [0.7289, 0.9167]],\n",
       "\n",
       "        [[0.1543, 0.7799],\n",
       "         [0.1839, 0.9336],\n",
       "         [0.3549, 0.1023],\n",
       "         [0.1359, 0.0764]]], device='cuda:0')"
      ]
     },
     "metadata": {},
     "output_type": "display_data"
    },
    {
     "name": "stdout",
     "output_type": "stream",
     "text": [
      "tens_3b_T ndim: 3, shape torch.Size([3, 2, 4]), requires_grad False, dtype torch.float32, device cuda:0\n"
     ]
    },
    {
     "data": {
      "text/plain": [
       "tensor([[[0.1378, 0.0195, 0.7517, 0.1038],\n",
       "         [0.5240, 0.6092, 0.9460, 0.0447]],\n",
       "\n",
       "        [[0.6683, 0.9743, 0.5918, 0.7289],\n",
       "         [0.0187, 0.5798, 0.8458, 0.9167]],\n",
       "\n",
       "        [[0.1543, 0.1839, 0.3549, 0.1359],\n",
       "         [0.7799, 0.9336, 0.1023, 0.0764]]], device='cuda:0')"
      ]
     },
     "metadata": {},
     "output_type": "display_data"
    },
    {
     "name": "stdout",
     "output_type": "stream",
     "text": [
      "tens_3_sum ndim: 3, shape torch.Size([3, 4, 2]), requires_grad False, dtype torch.float32, device cuda:0\n"
     ]
    },
    {
     "data": {
      "text/plain": [
       "tensor([[[0.8403, 0.9568],\n",
       "         [0.4171, 0.9968],\n",
       "         [0.7809, 0.9911],\n",
       "         [0.5946, 0.4562]],\n",
       "\n",
       "        [[1.4667, 0.3630],\n",
       "         [1.1702, 1.0396],\n",
       "         [0.6010, 1.0486],\n",
       "         [1.0616, 1.7924]],\n",
       "\n",
       "        [[0.6678, 1.7413],\n",
       "         [0.2075, 1.4371],\n",
       "         [1.2396, 1.0020],\n",
       "         [1.0850, 0.5423]]], device='cuda:0')"
      ]
     },
     "metadata": {},
     "output_type": "display_data"
    },
    {
     "name": "stdout",
     "output_type": "stream",
     "text": [
      "tens_3_mul ndim: 3, shape torch.Size([3, 4, 2]), requires_grad False, dtype torch.float32, device cuda:0\n"
     ]
    },
    {
     "data": {
      "text/plain": [
       "tensor([[[0.0968, 0.2268],\n",
       "         [0.0078, 0.2362],\n",
       "         [0.0220, 0.0426],\n",
       "         [0.0509, 0.0184]],\n",
       "\n",
       "        [[0.5336, 0.0064],\n",
       "         [0.1909, 0.2666],\n",
       "         [0.0055, 0.1715],\n",
       "         [0.2425, 0.8027]],\n",
       "\n",
       "        [[0.0792, 0.7498],\n",
       "         [0.0043, 0.4701],\n",
       "         [0.3140, 0.0920],\n",
       "         [0.1290, 0.0356]]], device='cuda:0')"
      ]
     },
     "metadata": {},
     "output_type": "display_data"
    },
    {
     "name": "stdout",
     "output_type": "stream",
     "text": [
      "tens_3_matmul ndim: 3, shape torch.Size([3, 4, 4]), requires_grad False, dtype torch.float32, device cuda:0\n"
     ]
    },
    {
     "data": {
      "text/plain": [
       "tensor([[[0.3236, 0.2774, 0.9375, 0.0923],\n",
       "         [0.2579, 0.2439, 0.6656, 0.0586],\n",
       "         [0.0276, 0.0280, 0.0646, 0.0051],\n",
       "         [0.2832, 0.2602, 0.7582, 0.0693]],\n",
       "\n",
       "        [[0.5400, 0.9775, 0.7637, 0.8976],\n",
       "         [0.1396, 0.4575, 0.5049, 0.5644],\n",
       "         [0.0100, 0.1266, 0.1770, 0.1927],\n",
       "         [0.2387, 0.8318, 0.9375, 1.0452]],\n",
       "\n",
       "        [[0.8290, 0.9920, 0.2806, 0.1432],\n",
       "         [0.3963, 0.4744, 0.0599, 0.0417],\n",
       "         [0.8382, 1.0027, 0.4060, 0.1890],\n",
       "         [0.5098, 0.6095, 0.3845, 0.1646]]], device='cuda:0')"
      ]
     },
     "metadata": {},
     "output_type": "display_data"
    }
   ],
   "source": [
    "print(f\"tens_3a ndim: {tens_3a.ndim}, shape {tens_3a.shape}, requires_grad {tens_3a.requires_grad}, dtype {tens_3a.dtype}, device {tens_3a.device}\")\n",
    "display(tens_3a)\n",
    "print(f\"tens_3b ndim: {tens_3b.ndim}, shape {tens_3b.shape}, requires_grad {tens_3b.requires_grad}, dtype {tens_3b.dtype}, device {tens_3b.device}\")\n",
    "display(tens_3b)\n",
    "\n",
    "tens_3b_T = tens_3b.transpose(2,1)\n",
    "print(f\"tens_3b_T ndim: {tens_3b_T.ndim}, shape {tens_3b_T.shape}, requires_grad {tens_3b_T.requires_grad}, dtype {tens_3b_T.dtype}, device {tens_3b_T.device}\")\n",
    "display(tens_3b_T)\n",
    "\n",
    "tens_3_sum = tens_3a + tens_3b\n",
    "tens_3_mul = tens_3a * tens_3b\n",
    "tens_3_matmul = torch.matmul(tens_3a, tens_3b_T)\n",
    "\n",
    "print(f\"tens_3_sum ndim: {tens_3_sum.ndim}, shape {tens_3_sum.shape}, requires_grad {tens_3_sum.requires_grad}, dtype {tens_3_sum.dtype}, device {tens_3_sum.device}\")\n",
    "display(tens_3_sum)\n",
    "print(f\"tens_3_mul ndim: {tens_3_mul.ndim}, shape {tens_3_mul.shape}, requires_grad {tens_3_mul.requires_grad}, dtype {tens_3_mul.dtype}, device {tens_3_mul.device}\")\n",
    "display(tens_3_mul)\n",
    "print(f\"tens_3_matmul ndim: {tens_3_matmul.ndim}, shape {tens_3_matmul.shape}, requires_grad {tens_3_matmul.requires_grad}, dtype {tens_3_matmul.dtype}, device {tens_3_matmul.device}\")\n",
    "display(tens_3_matmul)\n"
   ]
  }
 ],
 "metadata": {
  "kernelspec": {
   "display_name": "Python 3",
   "language": "python",
   "name": "python3"
  },
  "language_info": {
   "codemirror_mode": {
    "name": "ipython",
    "version": 3
   },
   "file_extension": ".py",
   "mimetype": "text/x-python",
   "name": "python",
   "nbconvert_exporter": "python",
   "pygments_lexer": "ipython3",
   "version": "3.9.5"
  }
 },
 "nbformat": 4,
 "nbformat_minor": 5
}
